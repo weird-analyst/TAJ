{
 "cells": [
  {
   "cell_type": "code",
   "execution_count": 1,
   "id": "a34d2a55",
   "metadata": {
    "execution": {
     "iopub.execute_input": "2024-04-14T08:14:51.401107Z",
     "iopub.status.busy": "2024-04-14T08:14:51.399582Z",
     "iopub.status.idle": "2024-04-14T08:14:51.418689Z",
     "shell.execute_reply": "2024-04-14T08:14:51.417070Z"
    },
    "papermill": {
     "duration": 0.028297,
     "end_time": "2024-04-14T08:14:51.422396",
     "exception": false,
     "start_time": "2024-04-14T08:14:51.394099",
     "status": "completed"
    },
    "tags": []
   },
   "outputs": [],
   "source": [
    "import os"
   ]
  },
  {
   "cell_type": "code",
   "execution_count": 2,
   "id": "8f31fa4f",
   "metadata": {
    "execution": {
     "iopub.execute_input": "2024-04-14T08:14:51.430600Z",
     "iopub.status.busy": "2024-04-14T08:14:51.430106Z",
     "iopub.status.idle": "2024-04-14T08:15:01.356139Z",
     "shell.execute_reply": "2024-04-14T08:15:01.354108Z"
    },
    "papermill": {
     "duration": 9.934082,
     "end_time": "2024-04-14T08:15:01.359585",
     "exception": false,
     "start_time": "2024-04-14T08:14:51.425503",
     "status": "completed"
    },
    "tags": []
   },
   "outputs": [],
   "source": [
    "!mkdir /kaggle/working/train\n",
    "!mkdir /kaggle/working/test\n",
    "!mkdir /kaggle/working/val\n",
    "!mkdir /kaggle/working/train/0\n",
    "!mkdir /kaggle/working/train/1\n",
    "!mkdir /kaggle/working/test/0\n",
    "!mkdir /kaggle/working/test/1\n",
    "!mkdir /kaggle/working/val/0\n",
    "!mkdir /kaggle/working/val/1"
   ]
  },
  {
   "cell_type": "code",
   "execution_count": 3,
   "id": "07d41db9",
   "metadata": {
    "execution": {
     "iopub.execute_input": "2024-04-14T08:15:01.368211Z",
     "iopub.status.busy": "2024-04-14T08:15:01.367633Z",
     "iopub.status.idle": "2024-04-14T08:15:57.409899Z",
     "shell.execute_reply": "2024-04-14T08:15:57.408173Z"
    },
    "papermill": {
     "duration": 56.05121,
     "end_time": "2024-04-14T08:15:57.413621",
     "exception": false,
     "start_time": "2024-04-14T08:15:01.362411",
     "status": "completed"
    },
    "tags": []
   },
   "outputs": [],
   "source": [
    "!cp -a /kaggle/input/preprocessing-koa-dataset/new/train/0/. /kaggle/working/train/0/\n",
    "!cp -a /kaggle/input/preprocessing-koa-dataset/new/train/1/. /kaggle/working/train/0/\n",
    "\n",
    "!cp -a /kaggle/input/preprocessing-koa-dataset/new/train/2/. /kaggle/working/train/1/\n",
    "!cp -a /kaggle/input/preprocessing-koa-dataset/new/train/3/. /kaggle/working/train/1/\n",
    "!cp -a /kaggle/input/preprocessing-koa-dataset/new/train/4/. /kaggle/working/train/1/\n",
    "\n",
    "!cp -a /kaggle/input/preprocessing-koa-dataset/new/val/0/. /kaggle/working/val/0/\n",
    "!cp -a /kaggle/input/preprocessing-koa-dataset/new/val/1/. /kaggle/working/val/0/\n",
    "\n",
    "!cp -a /kaggle/input/preprocessing-koa-dataset/new/val/2/. /kaggle/working/val/1/\n",
    "!cp -a /kaggle/input/preprocessing-koa-dataset/new/val/3/. /kaggle/working/val/1/\n",
    "!cp -a /kaggle/input/preprocessing-koa-dataset/new/val/4/. /kaggle/working/val/1/\n",
    "\n",
    "!cp -a /kaggle/input/preprocessing-koa-dataset/new/test/0/. /kaggle/working/test/0/\n",
    "!cp -a /kaggle/input/preprocessing-koa-dataset/new/test/1/. /kaggle/working/test/0/\n",
    "\n",
    "!cp -a /kaggle/input/preprocessing-koa-dataset/new/test/2/. /kaggle/working/test/1/\n",
    "!cp -a /kaggle/input/preprocessing-koa-dataset/new/test/3/. /kaggle/working/test/1/\n",
    "!cp -a /kaggle/input/preprocessing-koa-dataset/new/test/4/. /kaggle/working/test/1/"
   ]
  }
 ],
 "metadata": {
  "kaggle": {
   "accelerator": "none",
   "dataSources": [
    {
     "sourceId": 171929799,
     "sourceType": "kernelVersion"
    }
   ],
   "dockerImageVersionId": 30684,
   "isGpuEnabled": false,
   "isInternetEnabled": true,
   "language": "python",
   "sourceType": "notebook"
  },
  "kernelspec": {
   "display_name": "Python 3",
   "language": "python",
   "name": "python3"
  },
  "language_info": {
   "codemirror_mode": {
    "name": "ipython",
    "version": 3
   },
   "file_extension": ".py",
   "mimetype": "text/x-python",
   "name": "python",
   "nbconvert_exporter": "python",
   "pygments_lexer": "ipython3",
   "version": "3.10.13"
  },
  "papermill": {
   "default_parameters": {},
   "duration": 69.983835,
   "end_time": "2024-04-14T08:15:57.942176",
   "environment_variables": {},
   "exception": null,
   "input_path": "__notebook__.ipynb",
   "output_path": "__notebook__.ipynb",
   "parameters": {},
   "start_time": "2024-04-14T08:14:47.958341",
   "version": "2.5.0"
  }
 },
 "nbformat": 4,
 "nbformat_minor": 5
}
