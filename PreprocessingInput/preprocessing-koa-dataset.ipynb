{
 "cells": [
  {
   "cell_type": "code",
   "execution_count": 1,
   "id": "4af21693",
   "metadata": {
    "_cell_guid": "b1076dfc-b9ad-4769-8c92-a6c4dae69d19",
    "_uuid": "8f2839f25d086af736a60e9eeb907d3b93b6e0e5",
    "execution": {
     "iopub.execute_input": "2024-04-14T07:44:07.859496Z",
     "iopub.status.busy": "2024-04-14T07:44:07.859025Z",
     "iopub.status.idle": "2024-04-14T07:44:08.141411Z",
     "shell.execute_reply": "2024-04-14T07:44:08.140204Z"
    },
    "papermill": {
     "duration": 0.290867,
     "end_time": "2024-04-14T07:44:08.144244",
     "exception": false,
     "start_time": "2024-04-14T07:44:07.853377",
     "status": "completed"
    },
    "tags": []
   },
   "outputs": [],
   "source": [
    "import cv2\n",
    "import os\n",
    "import numpy as np\n",
    "import matplotlib.pyplot as plt"
   ]
  },
  {
   "cell_type": "code",
   "execution_count": 2,
   "id": "97aadd71",
   "metadata": {
    "execution": {
     "iopub.execute_input": "2024-04-14T07:44:08.153431Z",
     "iopub.status.busy": "2024-04-14T07:44:08.152920Z",
     "iopub.status.idle": "2024-04-14T07:45:01.264590Z",
     "shell.execute_reply": "2024-04-14T07:45:01.262961Z"
    },
    "papermill": {
     "duration": 53.119845,
     "end_time": "2024-04-14T07:45:01.267812",
     "exception": false,
     "start_time": "2024-04-14T07:44:08.147967",
     "status": "completed"
    },
    "tags": []
   },
   "outputs": [],
   "source": [
    "!cp -r /kaggle/input/knee-osteoarthritis-dataset-with-severity/test /kaggle/working/\n",
    "!cp -r /kaggle/input/knee-osteoarthritis-dataset-with-severity/test /kaggle/working/\n",
    "!cp -r /kaggle/input/knee-osteoarthritis-dataset-with-severity/train /kaggle/working/\n",
    "!cp -r /kaggle/input/knee-osteoarthritis-dataset-with-severity/val /kaggle/working/"
   ]
  },
  {
   "cell_type": "code",
   "execution_count": 3,
   "id": "67a67f78",
   "metadata": {
    "execution": {
     "iopub.execute_input": "2024-04-14T07:45:01.277415Z",
     "iopub.status.busy": "2024-04-14T07:45:01.276915Z",
     "iopub.status.idle": "2024-04-14T07:45:18.183819Z",
     "shell.execute_reply": "2024-04-14T07:45:18.182410Z"
    },
    "papermill": {
     "duration": 16.916301,
     "end_time": "2024-04-14T07:45:18.187839",
     "exception": false,
     "start_time": "2024-04-14T07:45:01.271538",
     "status": "completed"
    },
    "tags": []
   },
   "outputs": [],
   "source": [
    "!cp -r /kaggle/input/knee-osteoarthritis-dataset-with-severity/auto_test/0 /kaggle/working/train\n",
    "!cp -r /kaggle/input/knee-osteoarthritis-dataset-with-severity/auto_test/1 /kaggle/working/train\n",
    "!cp -r /kaggle/input/knee-osteoarthritis-dataset-with-severity/auto_test/2 /kaggle/working/train\n",
    "!cp -r /kaggle/input/knee-osteoarthritis-dataset-with-severity/auto_test/3 /kaggle/working/train\n",
    "!cp -r /kaggle/input/knee-osteoarthritis-dataset-with-severity/auto_test/4 /kaggle/working/train"
   ]
  },
  {
   "cell_type": "code",
   "execution_count": 4,
   "id": "4a4f43f9",
   "metadata": {
    "execution": {
     "iopub.execute_input": "2024-04-14T07:45:18.197583Z",
     "iopub.status.busy": "2024-04-14T07:45:18.196584Z",
     "iopub.status.idle": "2024-04-14T07:45:39.236343Z",
     "shell.execute_reply": "2024-04-14T07:45:39.234784Z"
    },
    "papermill": {
     "duration": 21.048189,
     "end_time": "2024-04-14T07:45:39.239567",
     "exception": false,
     "start_time": "2024-04-14T07:45:18.191378",
     "status": "completed"
    },
    "tags": []
   },
   "outputs": [],
   "source": [
    "!mkdir /kaggle/working/new\n",
    "!mkdir /kaggle/working/new/train\n",
    "!mkdir /kaggle/working/new/train/0\n",
    "!mkdir /kaggle/working/new/train/1\n",
    "!mkdir /kaggle/working/new/train/2\n",
    "!mkdir /kaggle/working/new/train/3\n",
    "!mkdir /kaggle/working/new/train/4\n",
    "!mkdir /kaggle/working/new/test\n",
    "!mkdir /kaggle/working/new/test/0\n",
    "!mkdir /kaggle/working/new/test/1\n",
    "!mkdir /kaggle/working/new/test/2\n",
    "!mkdir /kaggle/working/new/test/3\n",
    "!mkdir /kaggle/working/new/test/4\n",
    "!mkdir /kaggle/working/new/val\n",
    "!mkdir /kaggle/working/new/val/0\n",
    "!mkdir /kaggle/working/new/val/1\n",
    "!mkdir /kaggle/working/new/val/2\n",
    "!mkdir /kaggle/working/new/val/3\n",
    "!mkdir /kaggle/working/new/val/4"
   ]
  },
  {
   "cell_type": "code",
   "execution_count": 5,
   "id": "5b7a268a",
   "metadata": {
    "execution": {
     "iopub.execute_input": "2024-04-14T07:45:39.248377Z",
     "iopub.status.busy": "2024-04-14T07:45:39.247872Z",
     "iopub.status.idle": "2024-04-14T07:45:57.755632Z",
     "shell.execute_reply": "2024-04-14T07:45:57.754529Z"
    },
    "papermill": {
     "duration": 18.515629,
     "end_time": "2024-04-14T07:45:57.758738",
     "exception": false,
     "start_time": "2024-04-14T07:45:39.243109",
     "status": "completed"
    },
    "tags": []
   },
   "outputs": [],
   "source": [
    "clahe = cv2.createCLAHE(clipLimit=3)\n",
    "\n",
    "for subdir, dirs, files in os.walk('/kaggle/working/train/'):\n",
    "    for file in files:\n",
    "        filepath = os.path.join(subdir, file)\n",
    "#         print(filepath + \" started\",end=\" \")\n",
    "        img = cv2.imread(filepath)\n",
    "        img = img[75:175]\n",
    "        img = cv2.cvtColor(img, cv2.COLOR_BGR2GRAY)\n",
    "        img = clahe.apply(img)\n",
    "        cv2.imwrite('/kaggle/working/new/train/'+subdir[-1]+'/'+file,img)\n",
    "#         print(\"done\")"
   ]
  },
  {
   "cell_type": "code",
   "execution_count": 6,
   "id": "8fda01f6",
   "metadata": {
    "execution": {
     "iopub.execute_input": "2024-04-14T07:45:57.767916Z",
     "iopub.status.busy": "2024-04-14T07:45:57.766972Z",
     "iopub.status.idle": "2024-04-14T07:46:04.115317Z",
     "shell.execute_reply": "2024-04-14T07:46:04.114244Z"
    },
    "papermill": {
     "duration": 6.356189,
     "end_time": "2024-04-14T07:46:04.118558",
     "exception": false,
     "start_time": "2024-04-14T07:45:57.762369",
     "status": "completed"
    },
    "tags": []
   },
   "outputs": [],
   "source": [
    "for subdir, dirs, files in os.walk('/kaggle/working/val/'):\n",
    "    for file in files:\n",
    "        filepath = os.path.join(subdir, file)\n",
    "#         print(filepath + \" started\",end=\" \")\n",
    "        img = cv2.imread(filepath)\n",
    "        img = img[75:175]\n",
    "        img = cv2.cvtColor(img, cv2.COLOR_BGR2GRAY)\n",
    "        img = clahe.apply(img)\n",
    "        cv2.imwrite('/kaggle/working/new/val/'+subdir[-1]+'/'+file,img)\n",
    "#         print(\"done\")\n",
    "\n",
    "for subdir, dirs, files in os.walk('/kaggle/working/test/'):\n",
    "    for file in files:\n",
    "        filepath = os.path.join(subdir, file)\n",
    "#         print(filepath + \" started\",end=\" \")\n",
    "        img = cv2.imread(filepath)\n",
    "        img = img[75:175]\n",
    "        img = cv2.cvtColor(img, cv2.COLOR_BGR2GRAY)\n",
    "        img = clahe.apply(img)\n",
    "        cv2.imwrite('/kaggle/working/new/test/'+subdir[-1]+'/'+file,img)\n",
    "#         print(\"done\")"
   ]
  }
 ],
 "metadata": {
  "kaggle": {
   "accelerator": "none",
   "dataSources": [
    {
     "datasetId": 1257880,
     "sourceId": 2097406,
     "sourceType": "datasetVersion"
    }
   ],
   "dockerImageVersionId": 30684,
   "isGpuEnabled": false,
   "isInternetEnabled": true,
   "language": "python",
   "sourceType": "notebook"
  },
  "kernelspec": {
   "display_name": "Python 3",
   "language": "python",
   "name": "python3"
  },
  "language_info": {
   "codemirror_mode": {
    "name": "ipython",
    "version": 3
   },
   "file_extension": ".py",
   "mimetype": "text/x-python",
   "name": "python",
   "nbconvert_exporter": "python",
   "pygments_lexer": "ipython3",
   "version": "3.10.13"
  },
  "papermill": {
   "default_parameters": {},
   "duration": 119.978276,
   "end_time": "2024-04-14T07:46:04.545855",
   "environment_variables": {},
   "exception": null,
   "input_path": "__notebook__.ipynb",
   "output_path": "__notebook__.ipynb",
   "parameters": {},
   "start_time": "2024-04-14T07:44:04.567579",
   "version": "2.5.0"
  }
 },
 "nbformat": 4,
 "nbformat_minor": 5
}
