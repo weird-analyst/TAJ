{
 "cells": [
  {
   "cell_type": "code",
   "execution_count": 1,
   "id": "2fa65771",
   "metadata": {
    "execution": {
     "iopub.execute_input": "2024-04-16T08:52:05.495832Z",
     "iopub.status.busy": "2024-04-16T08:52:05.495073Z",
     "iopub.status.idle": "2024-04-16T08:52:24.359589Z",
     "shell.execute_reply": "2024-04-16T08:52:24.358155Z"
    },
    "papermill": {
     "duration": 18.87489,
     "end_time": "2024-04-16T08:52:24.362374",
     "exception": false,
     "start_time": "2024-04-16T08:52:05.487484",
     "status": "completed"
    },
    "tags": []
   },
   "outputs": [],
   "source": [
    "import os\n",
    "import numpy as np\n",
    "import pandas as pd\n",
    "!pip install -q ultralytics"
   ]
  },
  {
   "cell_type": "markdown",
   "id": "94945b40",
   "metadata": {
    "papermill": {
     "duration": 0.004382,
     "end_time": "2024-04-16T08:52:24.371813",
     "exception": false,
     "start_time": "2024-04-16T08:52:24.367431",
     "status": "completed"
    },
    "tags": []
   },
   "source": [
    "# MULTICLASS"
   ]
  },
  {
   "cell_type": "code",
   "execution_count": 2,
   "id": "cabef3fa",
   "metadata": {
    "execution": {
     "iopub.execute_input": "2024-04-16T08:52:24.383919Z",
     "iopub.status.busy": "2024-04-16T08:52:24.382750Z",
     "iopub.status.idle": "2024-04-16T08:52:26.703732Z",
     "shell.execute_reply": "2024-04-16T08:52:26.702827Z"
    },
    "papermill": {
     "duration": 2.329901,
     "end_time": "2024-04-16T08:52:26.706377",
     "exception": false,
     "start_time": "2024-04-16T08:52:24.376476",
     "status": "completed"
    },
    "tags": []
   },
   "outputs": [],
   "source": [
    "class0_train = []\n",
    "for file in os.listdir(\"/kaggle/input/preprocessing-koa-dataset/new/train/0/\"):\n",
    "    class0_train.append(\"/kaggle/input/preprocessing-koa-dataset/new/train/0/\"+file)\n",
    "class1_train = []\n",
    "for file in os.listdir(\"/kaggle/input/preprocessing-koa-dataset/new/train/1/\"):\n",
    "    class1_train.append(\"/kaggle/input/preprocessing-koa-dataset/new/train/1/\"+file)\n",
    "class2_train = []\n",
    "for file in os.listdir(\"/kaggle/input/preprocessing-koa-dataset/new/train/2/\"):\n",
    "    class2_train.append(\"/kaggle/input/preprocessing-koa-dataset/new/train/2/\"+file)\n",
    "class3_train = []\n",
    "for file in os.listdir(\"/kaggle/input/preprocessing-koa-dataset/new/train/3/\"):\n",
    "    class3_train.append(\"/kaggle/input/preprocessing-koa-dataset/new/train/3/\"+file)\n",
    "class4_train = []\n",
    "for file in os.listdir(\"/kaggle/input/preprocessing-koa-dataset/new/train/4/\"):\n",
    "    class4_train.append(\"/kaggle/input/preprocessing-koa-dataset/new/train/4/\"+file)\n",
    "class0_test = []\n",
    "for file in os.listdir(\"/kaggle/input/preprocessing-koa-dataset/new/test/0/\"):\n",
    "    class0_test.append(\"/kaggle/input/preprocessing-koa-dataset/new/test/0/\"+file)\n",
    "class1_test = []\n",
    "for file in os.listdir(\"/kaggle/input/preprocessing-koa-dataset/new/test/1/\"):\n",
    "    class1_test.append(\"/kaggle/input/preprocessing-koa-dataset/new/test/1/\"+file)\n",
    "class2_test = []\n",
    "for file in os.listdir(\"/kaggle/input/preprocessing-koa-dataset/new/test/2/\"):\n",
    "    class2_test.append(\"/kaggle/input/preprocessing-koa-dataset/new/test/2/\"+file)\n",
    "class3_test = []\n",
    "for file in os.listdir(\"/kaggle/input/preprocessing-koa-dataset/new/test/3/\"):\n",
    "    class3_test.append(\"/kaggle/input/preprocessing-koa-dataset/new/test/3/\"+file)\n",
    "class4_test = []\n",
    "for file in os.listdir(\"/kaggle/input/preprocessing-koa-dataset/new/test/4/\"):\n",
    "    class4_test.append(\"/kaggle/input/preprocessing-koa-dataset/new/test/4/\"+file)\n",
    "class0_val = []\n",
    "for file in os.listdir(\"/kaggle/input/preprocessing-koa-dataset/new/val/0/\"):\n",
    "    class0_val.append(\"/kaggle/input/preprocessing-koa-dataset/new/val/0/\"+file)\n",
    "class1_val = []\n",
    "for file in os.listdir(\"/kaggle/input/preprocessing-koa-dataset/new/val/1/\"):\n",
    "    class1_val.append(\"/kaggle/input/preprocessing-koa-dataset/new/val/1/\"+file)\n",
    "class2_val = []\n",
    "for file in os.listdir(\"/kaggle/input/preprocessing-koa-dataset/new/val/2/\"):\n",
    "    class2_val.append(\"/kaggle/input/preprocessing-koa-dataset/new/val/2/\"+file)\n",
    "class3_val = []\n",
    "for file in os.listdir(\"/kaggle/input/preprocessing-koa-dataset/new/val/3/\"):\n",
    "    class3_val.append(\"/kaggle/input/preprocessing-koa-dataset/new/val/3/\"+file)\n",
    "class4_val = []\n",
    "for file in os.listdir(\"/kaggle/input/preprocessing-koa-dataset/new/val/4/\"):\n",
    "    class4_val.append(\"/kaggle/input/preprocessing-koa-dataset/new/val/4/\"+file)"
   ]
  },
  {
   "cell_type": "code",
   "execution_count": 3,
   "id": "d48c0a85",
   "metadata": {
    "execution": {
     "iopub.execute_input": "2024-04-16T08:52:26.717730Z",
     "iopub.status.busy": "2024-04-16T08:52:26.716920Z",
     "iopub.status.idle": "2024-04-16T08:52:39.813834Z",
     "shell.execute_reply": "2024-04-16T08:52:39.812744Z"
    },
    "papermill": {
     "duration": 13.105714,
     "end_time": "2024-04-16T08:52:39.816910",
     "exception": false,
     "start_time": "2024-04-16T08:52:26.711196",
     "status": "completed"
    },
    "tags": []
   },
   "outputs": [],
   "source": [
    "from ultralytics import YOLO\n",
    "model = YOLO(\"/kaggle/input/yolov8-koa/runs/classify/train/weights/best.pt\")"
   ]
  },
  {
   "cell_type": "code",
   "execution_count": 4,
   "id": "b7182008",
   "metadata": {
    "execution": {
     "iopub.execute_input": "2024-04-16T08:52:39.829663Z",
     "iopub.status.busy": "2024-04-16T08:52:39.828780Z",
     "iopub.status.idle": "2024-04-16T08:55:48.110736Z",
     "shell.execute_reply": "2024-04-16T08:55:48.109791Z"
    },
    "papermill": {
     "duration": 188.290361,
     "end_time": "2024-04-16T08:55:48.113210",
     "exception": false,
     "start_time": "2024-04-16T08:52:39.822849",
     "status": "completed"
    },
    "tags": []
   },
   "outputs": [
    {
     "name": "stdout",
     "output_type": "stream",
     "text": [
      "DONE train_0\n",
      "DONE train_1\n",
      "DONE train_2\n",
      "DONE train_3\n",
      "DONE train_4\n"
     ]
    }
   ],
   "source": [
    "# train\n",
    "\n",
    "y_true = []\n",
    "y_preds = []\n",
    "\n",
    "for i in range(len(class0_train)):\n",
    "    y_true.append(0)\n",
    "    y_preds.append(model(class0_train[i], verbose=False)[0].probs.data.tolist())\n",
    "print(\"DONE train_0\")\n",
    "for i in range(len(class1_train)):\n",
    "    y_true.append(1)\n",
    "    y_preds.append(model(class1_train[i], verbose=False)[0].probs.data.tolist())\n",
    "print(\"DONE train_1\")\n",
    "for i in range(len(class2_train)):\n",
    "    y_true.append(2)\n",
    "    y_preds.append(model(class2_train[i], verbose=False)[0].probs.data.tolist())\n",
    "print(\"DONE train_2\")\n",
    "for i in range(len(class3_train)):\n",
    "    y_true.append(3)\n",
    "    y_preds.append(model(class3_train[i], verbose=False)[0].probs.data.tolist())\n",
    "print(\"DONE train_3\")\n",
    "for i in range(len(class4_train)):\n",
    "    y_true.append(4)\n",
    "    y_preds.append(model(class4_train[i], verbose=False)[0].probs.data.tolist())\n",
    "print(\"DONE train_4\")\n",
    "\n",
    "pd.DataFrame({\n",
    "    'FilePath': class0_train + class1_train + class2_train + class3_train + class4_train,\n",
    "    'y_true': y_true,\n",
    "    'y_0': [y[0] for y in y_preds],\n",
    "    'y_1': [y[1] for y in y_preds],\n",
    "    'y_2': [y[2] for y in y_preds],\n",
    "    'y_3': [y[3] for y in y_preds],\n",
    "    'y_4': [y[4] for y in y_preds]\n",
    "}).to_csv(\"m_yolov8_train.csv\")"
   ]
  },
  {
   "cell_type": "code",
   "execution_count": 5,
   "id": "f6b07ea7",
   "metadata": {
    "execution": {
     "iopub.execute_input": "2024-04-16T08:55:48.125130Z",
     "iopub.status.busy": "2024-04-16T08:55:48.124845Z",
     "iopub.status.idle": "2024-04-16T08:56:04.250297Z",
     "shell.execute_reply": "2024-04-16T08:56:04.249199Z"
    },
    "papermill": {
     "duration": 16.133827,
     "end_time": "2024-04-16T08:56:04.252643",
     "exception": false,
     "start_time": "2024-04-16T08:55:48.118816",
     "status": "completed"
    },
    "tags": []
   },
   "outputs": [
    {
     "name": "stdout",
     "output_type": "stream",
     "text": [
      "DONE val_0\n",
      "DONE val_1\n",
      "DONE val_2\n",
      "DONE val_3\n",
      "DONE val_4\n"
     ]
    }
   ],
   "source": [
    "# val\n",
    "\n",
    "y_true = []\n",
    "y_preds = []\n",
    "\n",
    "for i in range(len(class0_val)):\n",
    "    y_true.append(0)\n",
    "    y_preds.append(model(class0_val[i], verbose=False)[0].probs.data.tolist())\n",
    "print(\"DONE val_0\")\n",
    "for i in range(len(class1_val)):\n",
    "    y_true.append(1)\n",
    "    y_preds.append(model(class1_val[i], verbose=False)[0].probs.data.tolist())\n",
    "print(\"DONE val_1\")\n",
    "for i in range(len(class2_val)):\n",
    "    y_true.append(2)\n",
    "    y_preds.append(model(class2_val[i], verbose=False)[0].probs.data.tolist())\n",
    "print(\"DONE val_2\")\n",
    "for i in range(len(class3_val)):\n",
    "    y_true.append(3)\n",
    "    y_preds.append(model(class3_val[i], verbose=False)[0].probs.data.tolist())\n",
    "print(\"DONE val_3\")\n",
    "for i in range(len(class4_val)):\n",
    "    y_true.append(4)\n",
    "    y_preds.append(model(class4_val[i], verbose=False)[0].probs.data.tolist())\n",
    "print(\"DONE val_4\")\n",
    "\n",
    "pd.DataFrame({\n",
    "    'FilePath': class0_val + class1_val + class2_val + class3_val + class4_val,\n",
    "    'y_true': y_true,\n",
    "    'y_0': [y[0] for y in y_preds],\n",
    "    'y_1': [y[1] for y in y_preds],\n",
    "    'y_2': [y[2] for y in y_preds],\n",
    "    'y_3': [y[3] for y in y_preds],\n",
    "    'y_4': [y[4] for y in y_preds]\n",
    "}).to_csv(\"m_yolov8_val.csv\")"
   ]
  },
  {
   "cell_type": "code",
   "execution_count": 6,
   "id": "2c9455bc",
   "metadata": {
    "execution": {
     "iopub.execute_input": "2024-04-16T08:56:04.265685Z",
     "iopub.status.busy": "2024-04-16T08:56:04.265358Z",
     "iopub.status.idle": "2024-04-16T08:56:46.209935Z",
     "shell.execute_reply": "2024-04-16T08:56:46.208957Z"
    },
    "papermill": {
     "duration": 41.953684,
     "end_time": "2024-04-16T08:56:46.212135",
     "exception": false,
     "start_time": "2024-04-16T08:56:04.258451",
     "status": "completed"
    },
    "tags": []
   },
   "outputs": [
    {
     "name": "stdout",
     "output_type": "stream",
     "text": [
      "DONE test_0\n",
      "DONE test_1\n",
      "DONE test_2\n",
      "DONE test_3\n",
      "DONE test_4\n"
     ]
    }
   ],
   "source": [
    "# test\n",
    "\n",
    "y_true = []\n",
    "y_preds = []\n",
    "\n",
    "for i in range(len(class0_test)):\n",
    "    y_true.append(0)\n",
    "    y_preds.append(model(class0_test[i], verbose=False)[0].probs.data.tolist())\n",
    "print(\"DONE test_0\")\n",
    "for i in range(len(class1_test)):\n",
    "    y_true.append(1)\n",
    "    y_preds.append(model(class1_test[i], verbose=False)[0].probs.data.tolist())\n",
    "print(\"DONE test_1\")\n",
    "for i in range(len(class2_test)):\n",
    "    y_true.append(2)\n",
    "    y_preds.append(model(class2_test[i], verbose=False)[0].probs.data.tolist())\n",
    "print(\"DONE test_2\")\n",
    "for i in range(len(class3_test)):\n",
    "    y_true.append(3)\n",
    "    y_preds.append(model(class3_test[i], verbose=False)[0].probs.data.tolist())\n",
    "print(\"DONE test_3\")\n",
    "for i in range(len(class4_test)):\n",
    "    y_true.append(4)\n",
    "    y_preds.append(model(class4_test[i], verbose=False)[0].probs.data.tolist())\n",
    "print(\"DONE test_4\")\n",
    "\n",
    "pd.DataFrame({\n",
    "    'FilePath': class0_test + class1_test + class2_test + class3_test + class4_test,\n",
    "    'y_true': y_true,\n",
    "    'y_0': [y[0] for y in y_preds],\n",
    "    'y_1': [y[1] for y in y_preds],\n",
    "    'y_2': [y[2] for y in y_preds],\n",
    "    'y_3': [y[3] for y in y_preds],\n",
    "    'y_4': [y[4] for y in y_preds]\n",
    "}).to_csv(\"m_yolov8_test.csv\")"
   ]
  },
  {
   "cell_type": "markdown",
   "id": "05977d33",
   "metadata": {
    "papermill": {
     "duration": 0.005708,
     "end_time": "2024-04-16T08:56:46.223659",
     "exception": false,
     "start_time": "2024-04-16T08:56:46.217951",
     "status": "completed"
    },
    "tags": []
   },
   "source": [
    "# BINARY"
   ]
  },
  {
   "cell_type": "code",
   "execution_count": 7,
   "id": "cc4e0daa",
   "metadata": {
    "execution": {
     "iopub.execute_input": "2024-04-16T08:56:46.237694Z",
     "iopub.status.busy": "2024-04-16T08:56:46.237374Z",
     "iopub.status.idle": "2024-04-16T08:56:47.560737Z",
     "shell.execute_reply": "2024-04-16T08:56:47.559720Z"
    },
    "papermill": {
     "duration": 1.333038,
     "end_time": "2024-04-16T08:56:47.563609",
     "exception": false,
     "start_time": "2024-04-16T08:56:46.230571",
     "status": "completed"
    },
    "tags": []
   },
   "outputs": [],
   "source": [
    "model = YOLO(\"/kaggle/input/koa-yolov8-2/runs/classify/train/weights/best.pt\")"
   ]
  },
  {
   "cell_type": "code",
   "execution_count": 8,
   "id": "0094557e",
   "metadata": {
    "execution": {
     "iopub.execute_input": "2024-04-16T08:56:47.582192Z",
     "iopub.status.busy": "2024-04-16T08:56:47.580446Z",
     "iopub.status.idle": "2024-04-16T08:56:49.185744Z",
     "shell.execute_reply": "2024-04-16T08:56:49.184873Z"
    },
    "papermill": {
     "duration": 1.616526,
     "end_time": "2024-04-16T08:56:49.188158",
     "exception": false,
     "start_time": "2024-04-16T08:56:47.571632",
     "status": "completed"
    },
    "tags": []
   },
   "outputs": [],
   "source": [
    "class0_train = []\n",
    "for file in os.listdir(\"/kaggle/input/preprocessing-koa-dataset-binary/train/0/\"):\n",
    "    class0_train.append(\"/kaggle/input/preprocessing-koa-dataset-binary/train/0/\"+file)\n",
    "class1_train = []\n",
    "for file in os.listdir(\"/kaggle/input/preprocessing-koa-dataset-binary/train/1/\"):\n",
    "    class1_train.append(\"/kaggle/input/preprocessing-koa-dataset-binary/train/1/\"+file)\n",
    "\n",
    "class0_test = []\n",
    "for file in os.listdir(\"/kaggle/input/preprocessing-koa-dataset-binary/test/0/\"):\n",
    "    class0_test.append(\"/kaggle/input/preprocessing-koa-dataset-binary/test/0/\"+file)\n",
    "class1_test = []\n",
    "for file in os.listdir(\"/kaggle/input/preprocessing-koa-dataset-binary/test/1/\"):\n",
    "    class1_test.append(\"/kaggle/input/preprocessing-koa-dataset-binary/test/1/\"+file)\n",
    "\n",
    "class0_val = []\n",
    "for file in os.listdir(\"/kaggle/input/preprocessing-koa-dataset-binary/val/0/\"):\n",
    "    class0_val.append(\"/kaggle/input/preprocessing-koa-dataset-binary/val/0/\"+file)\n",
    "class1_val = []\n",
    "for file in os.listdir(\"/kaggle/input/preprocessing-koa-dataset-binary/val/1/\"):\n",
    "    class1_val.append(\"/kaggle/input/preprocessing-koa-dataset-binary/val/1/\"+file)"
   ]
  },
  {
   "cell_type": "code",
   "execution_count": 9,
   "id": "923e2cca",
   "metadata": {
    "execution": {
     "iopub.execute_input": "2024-04-16T08:56:49.202058Z",
     "iopub.status.busy": "2024-04-16T08:56:49.201399Z",
     "iopub.status.idle": "2024-04-16T09:00:12.918587Z",
     "shell.execute_reply": "2024-04-16T09:00:12.917507Z"
    },
    "papermill": {
     "duration": 203.732261,
     "end_time": "2024-04-16T09:00:12.926531",
     "exception": false,
     "start_time": "2024-04-16T08:56:49.194270",
     "status": "completed"
    },
    "tags": []
   },
   "outputs": [
    {
     "name": "stdout",
     "output_type": "stream",
     "text": [
      "DONE train_0\n",
      "DONE train_1\n"
     ]
    }
   ],
   "source": [
    "# train\n",
    "\n",
    "y_true = []\n",
    "y_preds = []\n",
    "\n",
    "for i in range(len(class0_train)):\n",
    "    y_true.append(0)\n",
    "    y_preds.append(model(class0_train[i], verbose=False)[0].probs.data.tolist())\n",
    "print(\"DONE train_0\")\n",
    "for i in range(len(class1_train)):\n",
    "    y_true.append(1)\n",
    "    y_preds.append(model(class1_train[i], verbose=False)[0].probs.data.tolist())\n",
    "print(\"DONE train_1\")\n",
    "\n",
    "pd.DataFrame({\n",
    "    'FilePath': class0_train + class1_train,\n",
    "    'y_true': y_true,\n",
    "    'm_0': [y[0] for y in y_preds],\n",
    "}).to_csv(\"b_yolov8_train.csv\")"
   ]
  },
  {
   "cell_type": "code",
   "execution_count": 10,
   "id": "a84a723a",
   "metadata": {
    "execution": {
     "iopub.execute_input": "2024-04-16T09:00:12.939864Z",
     "iopub.status.busy": "2024-04-16T09:00:12.939539Z",
     "iopub.status.idle": "2024-04-16T09:00:29.916464Z",
     "shell.execute_reply": "2024-04-16T09:00:29.915479Z"
    },
    "papermill": {
     "duration": 16.986023,
     "end_time": "2024-04-16T09:00:29.918686",
     "exception": false,
     "start_time": "2024-04-16T09:00:12.932663",
     "status": "completed"
    },
    "tags": []
   },
   "outputs": [
    {
     "name": "stdout",
     "output_type": "stream",
     "text": [
      "DONE val_0\n",
      "DONE val_1\n"
     ]
    }
   ],
   "source": [
    "# val\n",
    "\n",
    "y_true = []\n",
    "y_preds = []\n",
    "\n",
    "for i in range(len(class0_val)):\n",
    "    y_true.append(0)\n",
    "    y_preds.append(model(class0_val[i], verbose=False)[0].probs.data.tolist())\n",
    "print(\"DONE val_0\")\n",
    "for i in range(len(class1_val)):\n",
    "    y_true.append(1)\n",
    "    y_preds.append(model(class1_val[i], verbose=False)[0].probs.data.tolist())\n",
    "print(\"DONE val_1\")\n",
    "\n",
    "pd.DataFrame({\n",
    "    'FilePath': class0_val + class1_val,\n",
    "    'y_true': y_true,\n",
    "    'm_0': [y[0] for y in y_preds],\n",
    "}).to_csv(\"b_yolov8_val.csv\")"
   ]
  },
  {
   "cell_type": "code",
   "execution_count": 11,
   "id": "c5499c25",
   "metadata": {
    "execution": {
     "iopub.execute_input": "2024-04-16T09:00:29.933068Z",
     "iopub.status.busy": "2024-04-16T09:00:29.932724Z",
     "iopub.status.idle": "2024-04-16T09:01:11.532681Z",
     "shell.execute_reply": "2024-04-16T09:01:11.531737Z"
    },
    "papermill": {
     "duration": 41.615871,
     "end_time": "2024-04-16T09:01:11.541188",
     "exception": false,
     "start_time": "2024-04-16T09:00:29.925317",
     "status": "completed"
    },
    "tags": []
   },
   "outputs": [
    {
     "name": "stdout",
     "output_type": "stream",
     "text": [
      "DONE test_0\n",
      "DONE test_1\n"
     ]
    }
   ],
   "source": [
    "# test\n",
    "\n",
    "y_true = []\n",
    "y_preds = []\n",
    "\n",
    "for i in range(len(class0_test)):\n",
    "    y_true.append(0)\n",
    "    y_preds.append(model(class0_test[i], verbose=False)[0].probs.data.tolist())\n",
    "print(\"DONE test_0\")\n",
    "for i in range(len(class1_test)):\n",
    "    y_true.append(1)\n",
    "    y_preds.append(model(class1_test[i], verbose=False)[0].probs.data.tolist())\n",
    "print(\"DONE test_1\")\n",
    "\n",
    "pd.DataFrame({\n",
    "    'FilePath': class0_test + class1_test,\n",
    "    'y_true': y_true,\n",
    "    'm_0': [y[0] for y in y_preds],\n",
    "}).to_csv(\"b_yolov8_test.csv\")"
   ]
  }
 ],
 "metadata": {
  "kaggle": {
   "accelerator": "nvidiaTeslaT4",
   "dataSources": [
    {
     "datasetId": 4802768,
     "sourceId": 8126582,
     "sourceType": "datasetVersion"
    },
    {
     "sourceId": 171929799,
     "sourceType": "kernelVersion"
    },
    {
     "sourceId": 171933311,
     "sourceType": "kernelVersion"
    },
    {
     "sourceId": 172027212,
     "sourceType": "kernelVersion"
    }
   ],
   "dockerImageVersionId": 30684,
   "isGpuEnabled": true,
   "isInternetEnabled": true,
   "language": "python",
   "sourceType": "notebook"
  },
  "kernelspec": {
   "display_name": "Python 3",
   "language": "python",
   "name": "python3"
  },
  "language_info": {
   "codemirror_mode": {
    "name": "ipython",
    "version": 3
   },
   "file_extension": ".py",
   "mimetype": "text/x-python",
   "name": "python",
   "nbconvert_exporter": "python",
   "pygments_lexer": "ipython3",
   "version": "3.10.13"
  },
  "papermill": {
   "default_parameters": {},
   "duration": 553.197411,
   "end_time": "2024-04-16T09:01:14.601718",
   "environment_variables": {},
   "exception": null,
   "input_path": "__notebook__.ipynb",
   "output_path": "__notebook__.ipynb",
   "parameters": {},
   "start_time": "2024-04-16T08:52:01.404307",
   "version": "2.5.0"
  }
 },
 "nbformat": 4,
 "nbformat_minor": 5
}
