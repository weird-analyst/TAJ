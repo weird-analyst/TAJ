{
 "cells": [
  {
   "cell_type": "code",
   "execution_count": 1,
   "id": "ff102dd3",
   "metadata": {
    "execution": {
     "iopub.execute_input": "2024-04-16T13:21:14.238501Z",
     "iopub.status.busy": "2024-04-16T13:21:14.238085Z",
     "iopub.status.idle": "2024-04-16T13:21:36.121120Z",
     "shell.execute_reply": "2024-04-16T13:21:36.120136Z"
    },
    "papermill": {
     "duration": 21.894924,
     "end_time": "2024-04-16T13:21:36.124045",
     "exception": false,
     "start_time": "2024-04-16T13:21:14.229121",
     "status": "completed"
    },
    "tags": []
   },
   "outputs": [
    {
     "name": "stderr",
     "output_type": "stream",
     "text": [
      "2024-04-16 13:21:16.428544: E external/local_xla/xla/stream_executor/cuda/cuda_dnn.cc:9261] Unable to register cuDNN factory: Attempting to register factory for plugin cuDNN when one has already been registered\n",
      "2024-04-16 13:21:16.428715: E external/local_xla/xla/stream_executor/cuda/cuda_fft.cc:607] Unable to register cuFFT factory: Attempting to register factory for plugin cuFFT when one has already been registered\n",
      "2024-04-16 13:21:16.575022: E external/local_xla/xla/stream_executor/cuda/cuda_blas.cc:1515] Unable to register cuBLAS factory: Attempting to register factory for plugin cuBLAS when one has already been registered\n"
     ]
    }
   ],
   "source": [
    "#import non tensorflow libraries\n",
    "import matplotlib.pyplot as plt\n",
    "import os\n",
    "import numpy as np\n",
    "from PIL import Image\n",
    "import matplotlib.pyplot as plt\n",
    "import pathlib\n",
    "import IPython.display as display\n",
    "\n",
    "#import tensorflow libraries\n",
    "import tensorflow as tf\n",
    "from tensorflow import keras\n",
    "# from tensorflow.keras.preprocessing.image import ImageDataGenerator\n",
    "from tensorflow.keras.preprocessing import image_dataset_from_directory\n",
    "import tensorflow.keras.layers as tfl\n",
    "import pickle\n",
    "import keras_cv"
   ]
  },
  {
   "cell_type": "markdown",
   "id": "c537ed9a",
   "metadata": {
    "papermill": {
     "duration": 0.006584,
     "end_time": "2024-04-16T13:21:36.137935",
     "exception": false,
     "start_time": "2024-04-16T13:21:36.131351",
     "status": "completed"
    },
    "tags": []
   },
   "source": [
    "# MULTICLASS"
   ]
  },
  {
   "cell_type": "code",
   "execution_count": 2,
   "id": "3a5bbdba",
   "metadata": {
    "execution": {
     "iopub.execute_input": "2024-04-16T13:21:36.154994Z",
     "iopub.status.busy": "2024-04-16T13:21:36.153800Z",
     "iopub.status.idle": "2024-04-16T13:21:39.339954Z",
     "shell.execute_reply": "2024-04-16T13:21:39.338609Z"
    },
    "papermill": {
     "duration": 3.197801,
     "end_time": "2024-04-16T13:21:39.343043",
     "exception": false,
     "start_time": "2024-04-16T13:21:36.145242",
     "status": "completed"
    },
    "tags": []
   },
   "outputs": [
    {
     "name": "stderr",
     "output_type": "stream",
     "text": [
      "/opt/conda/lib/python3.10/pty.py:89: RuntimeWarning: os.fork() was called. os.fork() is incompatible with multithreaded code, and JAX is multithreaded, so this will likely lead to a deadlock.\n",
      "  pid, fd = os.forkpty()\n"
     ]
    }
   ],
   "source": [
    "!cp -r /kaggle/input/koa-densenet/saved.model.keras densenetp.model.keras"
   ]
  },
  {
   "cell_type": "code",
   "execution_count": 3,
   "id": "fba1b856",
   "metadata": {
    "execution": {
     "iopub.execute_input": "2024-04-16T13:21:39.364788Z",
     "iopub.status.busy": "2024-04-16T13:21:39.364340Z",
     "iopub.status.idle": "2024-04-16T13:22:17.303610Z",
     "shell.execute_reply": "2024-04-16T13:22:17.302266Z"
    },
    "papermill": {
     "duration": 37.952347,
     "end_time": "2024-04-16T13:22:17.307596",
     "exception": false,
     "start_time": "2024-04-16T13:21:39.355249",
     "status": "completed"
    },
    "tags": []
   },
   "outputs": [],
   "source": [
    "model = tf.keras.models.load_model(\"densenetp.model.keras\")"
   ]
  },
  {
   "cell_type": "code",
   "execution_count": 4,
   "id": "d1654571",
   "metadata": {
    "execution": {
     "iopub.execute_input": "2024-04-16T13:22:17.323612Z",
     "iopub.status.busy": "2024-04-16T13:22:17.323225Z",
     "iopub.status.idle": "2024-04-16T13:22:21.101443Z",
     "shell.execute_reply": "2024-04-16T13:22:21.100152Z"
    },
    "papermill": {
     "duration": 3.789634,
     "end_time": "2024-04-16T13:22:21.104272",
     "exception": false,
     "start_time": "2024-04-16T13:22:17.314638",
     "status": "completed"
    },
    "tags": []
   },
   "outputs": [],
   "source": [
    "class0_train = []\n",
    "for file in os.listdir(\"/kaggle/input/preprocessing-koa-dataset/new/train/0/\"):\n",
    "    class0_train.append(\"/kaggle/input/preprocessing-koa-dataset/new/train/0/\"+file)\n",
    "class1_train = []\n",
    "for file in os.listdir(\"/kaggle/input/preprocessing-koa-dataset/new/train/1/\"):\n",
    "    class1_train.append(\"/kaggle/input/preprocessing-koa-dataset/new/train/1/\"+file)\n",
    "class2_train = []\n",
    "for file in os.listdir(\"/kaggle/input/preprocessing-koa-dataset/new/train/2/\"):\n",
    "    class2_train.append(\"/kaggle/input/preprocessing-koa-dataset/new/train/2/\"+file)\n",
    "class3_train = []\n",
    "for file in os.listdir(\"/kaggle/input/preprocessing-koa-dataset/new/train/3/\"):\n",
    "    class3_train.append(\"/kaggle/input/preprocessing-koa-dataset/new/train/3/\"+file)\n",
    "class4_train = []\n",
    "for file in os.listdir(\"/kaggle/input/preprocessing-koa-dataset/new/train/4/\"):\n",
    "    class4_train.append(\"/kaggle/input/preprocessing-koa-dataset/new/train/4/\"+file)\n",
    "class0_test = []\n",
    "for file in os.listdir(\"/kaggle/input/preprocessing-koa-dataset/new/test/0/\"):\n",
    "    class0_test.append(\"/kaggle/input/preprocessing-koa-dataset/new/test/0/\"+file)\n",
    "class1_test = []\n",
    "for file in os.listdir(\"/kaggle/input/preprocessing-koa-dataset/new/test/1/\"):\n",
    "    class1_test.append(\"/kaggle/input/preprocessing-koa-dataset/new/test/1/\"+file)\n",
    "class2_test = []\n",
    "for file in os.listdir(\"/kaggle/input/preprocessing-koa-dataset/new/test/2/\"):\n",
    "    class2_test.append(\"/kaggle/input/preprocessing-koa-dataset/new/test/2/\"+file)\n",
    "class3_test = []\n",
    "for file in os.listdir(\"/kaggle/input/preprocessing-koa-dataset/new/test/3/\"):\n",
    "    class3_test.append(\"/kaggle/input/preprocessing-koa-dataset/new/test/3/\"+file)\n",
    "class4_test = []\n",
    "for file in os.listdir(\"/kaggle/input/preprocessing-koa-dataset/new/test/4/\"):\n",
    "    class4_test.append(\"/kaggle/input/preprocessing-koa-dataset/new/test/4/\"+file)\n",
    "class0_val = []\n",
    "for file in os.listdir(\"/kaggle/input/preprocessing-koa-dataset/new/val/0/\"):\n",
    "    class0_val.append(\"/kaggle/input/preprocessing-koa-dataset/new/val/0/\"+file)\n",
    "class1_val = []\n",
    "for file in os.listdir(\"/kaggle/input/preprocessing-koa-dataset/new/val/1/\"):\n",
    "    class1_val.append(\"/kaggle/input/preprocessing-koa-dataset/new/val/1/\"+file)\n",
    "class2_val = []\n",
    "for file in os.listdir(\"/kaggle/input/preprocessing-koa-dataset/new/val/2/\"):\n",
    "    class2_val.append(\"/kaggle/input/preprocessing-koa-dataset/new/val/2/\"+file)\n",
    "class3_val = []\n",
    "for file in os.listdir(\"/kaggle/input/preprocessing-koa-dataset/new/val/3/\"):\n",
    "    class3_val.append(\"/kaggle/input/preprocessing-koa-dataset/new/val/3/\"+file)\n",
    "class4_val = []\n",
    "for file in os.listdir(\"/kaggle/input/preprocessing-koa-dataset/new/val/4/\"):\n",
    "    class4_val.append(\"/kaggle/input/preprocessing-koa-dataset/new/val/4/\"+file)"
   ]
  },
  {
   "cell_type": "code",
   "execution_count": 5,
   "id": "ace9de90",
   "metadata": {
    "execution": {
     "iopub.execute_input": "2024-04-16T13:22:21.120437Z",
     "iopub.status.busy": "2024-04-16T13:22:21.119927Z",
     "iopub.status.idle": "2024-04-16T13:22:21.124650Z",
     "shell.execute_reply": "2024-04-16T13:22:21.123417Z"
    },
    "papermill": {
     "duration": 0.015837,
     "end_time": "2024-04-16T13:22:21.127013",
     "exception": false,
     "start_time": "2024-04-16T13:22:21.111176",
     "status": "completed"
    },
    "tags": []
   },
   "outputs": [],
   "source": [
    "import cv2\n",
    "import pandas as pd"
   ]
  },
  {
   "cell_type": "code",
   "execution_count": 6,
   "id": "ca2e6dd8",
   "metadata": {
    "execution": {
     "iopub.execute_input": "2024-04-16T13:22:21.143096Z",
     "iopub.status.busy": "2024-04-16T13:22:21.142266Z",
     "iopub.status.idle": "2024-04-16T15:34:55.344337Z",
     "shell.execute_reply": "2024-04-16T15:34:55.343146Z"
    },
    "papermill": {
     "duration": 7954.219866,
     "end_time": "2024-04-16T15:34:55.353906",
     "exception": false,
     "start_time": "2024-04-16T13:22:21.134040",
     "status": "completed"
    },
    "tags": []
   },
   "outputs": [
    {
     "name": "stdout",
     "output_type": "stream",
     "text": [
      "DONE train_0\n",
      "DONE train_1\n",
      "DONE train_2\n",
      "DONE train_3\n",
      "DONE train_4\n"
     ]
    }
   ],
   "source": [
    "# train\n",
    "y_true = []\n",
    "y_preds = []\n",
    "\n",
    "for path in class0_train:\n",
    "    img = cv2.imread(path)\n",
    "    img = cv2.resize(img, (224,224))\n",
    "    y_true.append(0)\n",
    "    y_preds.append(model(tf.expand_dims(cv2.cvtColor(img, cv2.COLOR_BGR2RGB),0))[0]._numpy().tolist())\n",
    "print(\"DONE train_0\")\n",
    "for path in class1_train:\n",
    "    img = cv2.imread(path)\n",
    "    img = cv2.resize(img, (224,224))\n",
    "    y_true.append(1)\n",
    "    y_preds.append(model(tf.expand_dims(cv2.cvtColor(img, cv2.COLOR_BGR2RGB),0))[0]._numpy().tolist())\n",
    "print(\"DONE train_1\")\n",
    "for path in class2_train:\n",
    "    img = cv2.imread(path)\n",
    "    img = cv2.resize(img, (224,224))\n",
    "    y_true.append(2)\n",
    "    y_preds.append(model(tf.expand_dims(cv2.cvtColor(img, cv2.COLOR_BGR2RGB),0))[0]._numpy().tolist())\n",
    "print(\"DONE train_2\")\n",
    "for path in class3_train:\n",
    "    img = cv2.imread(path)\n",
    "    img = cv2.resize(img, (224,224))\n",
    "    y_true.append(3)\n",
    "    y_preds.append(model(tf.expand_dims(cv2.cvtColor(img, cv2.COLOR_BGR2RGB),0))[0]._numpy().tolist())\n",
    "print(\"DONE train_3\")\n",
    "for path in class4_train:\n",
    "    img = cv2.imread(path)\n",
    "    img = cv2.resize(img, (224,224))\n",
    "    y_true.append(4)\n",
    "    y_preds.append(model(tf.expand_dims(cv2.cvtColor(img, cv2.COLOR_BGR2RGB),0))[0]._numpy().tolist())\n",
    "print(\"DONE train_4\")"
   ]
  },
  {
   "cell_type": "code",
   "execution_count": 7,
   "id": "484d416f",
   "metadata": {
    "execution": {
     "iopub.execute_input": "2024-04-16T15:34:55.370368Z",
     "iopub.status.busy": "2024-04-16T15:34:55.369982Z",
     "iopub.status.idle": "2024-04-16T15:34:55.527827Z",
     "shell.execute_reply": "2024-04-16T15:34:55.526539Z"
    },
    "papermill": {
     "duration": 0.16988,
     "end_time": "2024-04-16T15:34:55.530977",
     "exception": false,
     "start_time": "2024-04-16T15:34:55.361097",
     "status": "completed"
    },
    "tags": []
   },
   "outputs": [],
   "source": [
    "pd.DataFrame({\n",
    "    'FileName': class0_train + class1_train + class2_train + class3_train + class4_train,\n",
    "    'y_true': y_true,\n",
    "    'd_0': [y[0] for y in y_preds],\n",
    "    'd_1': [y[1] for y in y_preds],\n",
    "    'd_2': [y[2] for y in y_preds],\n",
    "    'd_3': [y[3] for y in y_preds],\n",
    "    'd_4': [y[4] for y in y_preds]\n",
    "}).to_csv(\"m_densenet_train.csv\")"
   ]
  },
  {
   "cell_type": "code",
   "execution_count": 8,
   "id": "dafc2c4a",
   "metadata": {
    "execution": {
     "iopub.execute_input": "2024-04-16T15:34:55.548697Z",
     "iopub.status.busy": "2024-04-16T15:34:55.548306Z",
     "iopub.status.idle": "2024-04-16T15:49:36.013901Z",
     "shell.execute_reply": "2024-04-16T15:49:36.012698Z"
    },
    "papermill": {
     "duration": 880.477323,
     "end_time": "2024-04-16T15:49:36.016371",
     "exception": false,
     "start_time": "2024-04-16T15:34:55.539048",
     "status": "completed"
    },
    "tags": []
   },
   "outputs": [
    {
     "name": "stdout",
     "output_type": "stream",
     "text": [
      "DONE val_0\n",
      "DONE val_1\n",
      "DONE val_2\n",
      "DONE val_3\n",
      "DONE val_4\n"
     ]
    }
   ],
   "source": [
    "# val\n",
    "\n",
    "y_true = []\n",
    "y_preds = []\n",
    "\n",
    "for path in class0_val:\n",
    "    img = cv2.imread(path)\n",
    "    img = cv2.resize(img, (224,224))\n",
    "    y_true.append(0)\n",
    "    y_preds.append(model(tf.expand_dims(cv2.cvtColor(img, cv2.COLOR_BGR2RGB),0))[0]._numpy().tolist())\n",
    "print(\"DONE val_0\")\n",
    "for path in class1_val:\n",
    "    img = cv2.imread(path)\n",
    "    img = cv2.resize(img, (224,224))\n",
    "    y_true.append(1)\n",
    "    y_preds.append(model(tf.expand_dims(cv2.cvtColor(img, cv2.COLOR_BGR2RGB),0))[0]._numpy().tolist())\n",
    "print(\"DONE val_1\")\n",
    "for path in class2_val:\n",
    "    img = cv2.imread(path)\n",
    "    img = cv2.resize(img, (224,224))\n",
    "    y_true.append(2)\n",
    "    y_preds.append(model(tf.expand_dims(cv2.cvtColor(img, cv2.COLOR_BGR2RGB),0))[0]._numpy().tolist())\n",
    "print(\"DONE val_2\")\n",
    "for path in class3_val:\n",
    "    img = cv2.imread(path)\n",
    "    img = cv2.resize(img, (224,224))\n",
    "    y_true.append(3)\n",
    "    y_preds.append(model(tf.expand_dims(cv2.cvtColor(img, cv2.COLOR_BGR2RGB),0))[0]._numpy().tolist())\n",
    "print(\"DONE val_3\")\n",
    "for path in class4_val:\n",
    "    img = cv2.imread(path)\n",
    "    img = cv2.resize(img, (224,224))\n",
    "    y_true.append(4)\n",
    "    y_preds.append(model(tf.expand_dims(cv2.cvtColor(img, cv2.COLOR_BGR2RGB),0))[0]._numpy().tolist())\n",
    "print(\"DONE val_4\")\n",
    "\n",
    "pd.DataFrame({\n",
    "    'FileName': class0_val + class1_val + class2_val + class3_val + class4_val,\n",
    "    'y_true': y_true,\n",
    "    'd_0': [y[0] for y in y_preds],\n",
    "    'd_1': [y[1] for y in y_preds],\n",
    "    'd_2': [y[2] for y in y_preds],\n",
    "    'd_3': [y[3] for y in y_preds],\n",
    "    'd_4': [y[4] for y in y_preds]\n",
    "}).to_csv(\"m_densenet_val.csv\")"
   ]
  },
  {
   "cell_type": "code",
   "execution_count": 9,
   "id": "5537947f",
   "metadata": {
    "execution": {
     "iopub.execute_input": "2024-04-16T15:49:36.034954Z",
     "iopub.status.busy": "2024-04-16T15:49:36.033891Z",
     "iopub.status.idle": "2024-04-16T16:19:08.405792Z",
     "shell.execute_reply": "2024-04-16T16:19:08.404506Z"
    },
    "papermill": {
     "duration": 1772.391373,
     "end_time": "2024-04-16T16:19:08.415694",
     "exception": false,
     "start_time": "2024-04-16T15:49:36.024321",
     "status": "completed"
    },
    "tags": []
   },
   "outputs": [
    {
     "name": "stdout",
     "output_type": "stream",
     "text": [
      "DONE test_0\n",
      "DONE test_1\n",
      "DONE test_2\n",
      "DONE test_3\n",
      "DONE test_4\n"
     ]
    }
   ],
   "source": [
    "# test\n",
    "\n",
    "y_true = []\n",
    "y_preds = []\n",
    "\n",
    "for path in class0_test:\n",
    "    img = cv2.imread(path)\n",
    "    img = cv2.resize(img, (224,224))\n",
    "    y_true.append(0)\n",
    "    y_preds.append(model(tf.expand_dims(cv2.cvtColor(img, cv2.COLOR_BGR2RGB),0))[0]._numpy().tolist())\n",
    "print(\"DONE test_0\")\n",
    "for path in class1_test:\n",
    "    img = cv2.imread(path)\n",
    "    img = cv2.resize(img, (224,224))\n",
    "    y_true.append(1)\n",
    "    y_preds.append(model(tf.expand_dims(cv2.cvtColor(img, cv2.COLOR_BGR2RGB),0))[0]._numpy().tolist())\n",
    "print(\"DONE test_1\")\n",
    "for path in class2_test:\n",
    "    img = cv2.imread(path)\n",
    "    img = cv2.resize(img, (224,224))\n",
    "    y_true.append(2)\n",
    "    y_preds.append(model(tf.expand_dims(cv2.cvtColor(img, cv2.COLOR_BGR2RGB),0))[0]._numpy().tolist())\n",
    "print(\"DONE test_2\")\n",
    "for path in class3_test:\n",
    "    img = cv2.imread(path)\n",
    "    img = cv2.resize(img, (224,224))\n",
    "    y_true.append(3)\n",
    "    y_preds.append(model(tf.expand_dims(cv2.cvtColor(img, cv2.COLOR_BGR2RGB),0))[0]._numpy().tolist())\n",
    "print(\"DONE test_3\")\n",
    "for path in class4_test:\n",
    "    img = cv2.imread(path)\n",
    "    img = cv2.resize(img, (224,224))\n",
    "    y_true.append(4)\n",
    "    y_preds.append(model(tf.expand_dims(cv2.cvtColor(img, cv2.COLOR_BGR2RGB),0))[0]._numpy().tolist())\n",
    "print(\"DONE test_4\")\n",
    "\n",
    "pd.DataFrame({\n",
    "    'FileName': class0_test + class1_test + class2_test + class3_test + class4_test,\n",
    "    'y_true': y_true,\n",
    "    'd_0': [y[0] for y in y_preds],\n",
    "    'd_1': [y[1] for y in y_preds],\n",
    "    'd_2': [y[2] for y in y_preds],\n",
    "    'd_3': [y[3] for y in y_preds],\n",
    "    'd_4': [y[4] for y in y_preds]\n",
    "}).to_csv(\"m_densenet_test.csv\")"
   ]
  },
  {
   "cell_type": "markdown",
   "id": "92a9ac4a",
   "metadata": {
    "papermill": {
     "duration": 0.008238,
     "end_time": "2024-04-16T16:19:08.432981",
     "exception": false,
     "start_time": "2024-04-16T16:19:08.424743",
     "status": "completed"
    },
    "tags": []
   },
   "source": [
    "# BINARY"
   ]
  },
  {
   "cell_type": "code",
   "execution_count": 10,
   "id": "3fb5f635",
   "metadata": {
    "execution": {
     "iopub.execute_input": "2024-04-16T16:19:08.451977Z",
     "iopub.status.busy": "2024-04-16T16:19:08.451545Z",
     "iopub.status.idle": "2024-04-16T16:19:11.818082Z",
     "shell.execute_reply": "2024-04-16T16:19:11.816307Z"
    },
    "papermill": {
     "duration": 3.38018,
     "end_time": "2024-04-16T16:19:11.821641",
     "exception": false,
     "start_time": "2024-04-16T16:19:08.441461",
     "status": "completed"
    },
    "tags": []
   },
   "outputs": [],
   "source": [
    "!cp -r /kaggle/input/koa-densenet-2/saved.model.keras densenetb.model.keras"
   ]
  },
  {
   "cell_type": "code",
   "execution_count": 11,
   "id": "575ab140",
   "metadata": {
    "execution": {
     "iopub.execute_input": "2024-04-16T16:19:11.840915Z",
     "iopub.status.busy": "2024-04-16T16:19:11.840463Z",
     "iopub.status.idle": "2024-04-16T16:19:47.941676Z",
     "shell.execute_reply": "2024-04-16T16:19:47.940684Z"
    },
    "papermill": {
     "duration": 36.114092,
     "end_time": "2024-04-16T16:19:47.944301",
     "exception": false,
     "start_time": "2024-04-16T16:19:11.830209",
     "status": "completed"
    },
    "tags": []
   },
   "outputs": [],
   "source": [
    "model = tf.keras.models.load_model(\"densenetb.model.keras\")"
   ]
  },
  {
   "cell_type": "code",
   "execution_count": 12,
   "id": "e3dcb8f2",
   "metadata": {
    "execution": {
     "iopub.execute_input": "2024-04-16T16:19:47.965918Z",
     "iopub.status.busy": "2024-04-16T16:19:47.965099Z",
     "iopub.status.idle": "2024-04-16T16:19:49.734714Z",
     "shell.execute_reply": "2024-04-16T16:19:49.733682Z"
    },
    "papermill": {
     "duration": 1.783453,
     "end_time": "2024-04-16T16:19:49.737345",
     "exception": false,
     "start_time": "2024-04-16T16:19:47.953892",
     "status": "completed"
    },
    "tags": []
   },
   "outputs": [],
   "source": [
    "class0_train = []\n",
    "for file in os.listdir(\"/kaggle/input/preprocessing-koa-dataset-binary/train/0/\"):\n",
    "    class0_train.append(\"/kaggle/input/preprocessing-koa-dataset-binary/train/0/\"+file)\n",
    "class1_train = []\n",
    "for file in os.listdir(\"/kaggle/input/preprocessing-koa-dataset-binary/train/1/\"):\n",
    "    class1_train.append(\"/kaggle/input/preprocessing-koa-dataset-binary/train/1/\"+file)\n",
    "\n",
    "class0_test = []\n",
    "for file in os.listdir(\"/kaggle/input/preprocessing-koa-dataset-binary/test/0/\"):\n",
    "    class0_test.append(\"/kaggle/input/preprocessing-koa-dataset-binary/test/0/\"+file)\n",
    "class1_test = []\n",
    "for file in os.listdir(\"/kaggle/input/preprocessing-koa-dataset-binary/test/1/\"):\n",
    "    class1_test.append(\"/kaggle/input/preprocessing-koa-dataset-binary/test/1/\"+file)\n",
    "\n",
    "class0_val = []\n",
    "for file in os.listdir(\"/kaggle/input/preprocessing-koa-dataset-binary/val/0/\"):\n",
    "    class0_val.append(\"/kaggle/input/preprocessing-koa-dataset-binary/val/0/\"+file)\n",
    "class1_val = []\n",
    "for file in os.listdir(\"/kaggle/input/preprocessing-koa-dataset-binary/val/1/\"):\n",
    "    class1_val.append(\"/kaggle/input/preprocessing-koa-dataset-binary/val/1/\"+file)"
   ]
  },
  {
   "cell_type": "code",
   "execution_count": 13,
   "id": "ad3ad405",
   "metadata": {
    "execution": {
     "iopub.execute_input": "2024-04-16T16:19:49.756520Z",
     "iopub.status.busy": "2024-04-16T16:19:49.755793Z",
     "iopub.status.idle": "2024-04-16T16:19:49.760088Z",
     "shell.execute_reply": "2024-04-16T16:19:49.759122Z"
    },
    "papermill": {
     "duration": 0.016437,
     "end_time": "2024-04-16T16:19:49.762386",
     "exception": false,
     "start_time": "2024-04-16T16:19:49.745949",
     "status": "completed"
    },
    "tags": []
   },
   "outputs": [],
   "source": [
    "import cv2\n",
    "import pandas as pd"
   ]
  },
  {
   "cell_type": "code",
   "execution_count": 14,
   "id": "9bac5a05",
   "metadata": {
    "execution": {
     "iopub.execute_input": "2024-04-16T16:19:49.782423Z",
     "iopub.status.busy": "2024-04-16T16:19:49.781480Z",
     "iopub.status.idle": "2024-04-16T18:37:26.005800Z",
     "shell.execute_reply": "2024-04-16T18:37:26.001490Z"
    },
    "papermill": {
     "duration": 8256.243636,
     "end_time": "2024-04-16T18:37:26.014996",
     "exception": false,
     "start_time": "2024-04-16T16:19:49.771360",
     "status": "completed"
    },
    "tags": []
   },
   "outputs": [
    {
     "name": "stdout",
     "output_type": "stream",
     "text": [
      "DONE train_0\n",
      "DONE train_1\n"
     ]
    }
   ],
   "source": [
    "# train\n",
    "y_true = []\n",
    "y_preds = []\n",
    "\n",
    "for path in class0_train:\n",
    "    img = cv2.imread(path)\n",
    "    img = cv2.resize(img, (224,224))\n",
    "    y_true.append(0)\n",
    "    y_preds.append(model(tf.expand_dims(cv2.cvtColor(img, cv2.COLOR_BGR2RGB),0))[0]._numpy().tolist())\n",
    "print(\"DONE train_0\")\n",
    "for path in class1_train:\n",
    "    img = cv2.imread(path)\n",
    "    img = cv2.resize(img, (224,224))\n",
    "    y_true.append(1)\n",
    "    y_preds.append(model(tf.expand_dims(cv2.cvtColor(img, cv2.COLOR_BGR2RGB),0))[0]._numpy().tolist())\n",
    "print(\"DONE train_1\")\n",
    "\n",
    "pd.DataFrame({\n",
    "    'FileName': class0_train + class1_train,\n",
    "    'y_true': y_true,\n",
    "    'd': [y[0] for y in y_preds]\n",
    "}).to_csv(\"b_densenet_train.csv\")"
   ]
  },
  {
   "cell_type": "code",
   "execution_count": 15,
   "id": "6129aa7b",
   "metadata": {
    "execution": {
     "iopub.execute_input": "2024-04-16T18:37:26.035919Z",
     "iopub.status.busy": "2024-04-16T18:37:26.034615Z",
     "iopub.status.idle": "2024-04-16T18:52:51.047118Z",
     "shell.execute_reply": "2024-04-16T18:52:51.046000Z"
    },
    "papermill": {
     "duration": 925.035197,
     "end_time": "2024-04-16T18:52:51.058896",
     "exception": false,
     "start_time": "2024-04-16T18:37:26.023699",
     "status": "completed"
    },
    "tags": []
   },
   "outputs": [
    {
     "name": "stdout",
     "output_type": "stream",
     "text": [
      "DONE val_0\n",
      "DONE val_1\n"
     ]
    }
   ],
   "source": [
    "# val\n",
    "y_true = []\n",
    "y_preds = []\n",
    "\n",
    "for path in class0_val:\n",
    "    img = cv2.imread(path)\n",
    "    img = cv2.resize(img, (224,224))\n",
    "    y_true.append(0)\n",
    "    y_preds.append(model(tf.expand_dims(cv2.cvtColor(img, cv2.COLOR_BGR2RGB),0))[0]._numpy().tolist())\n",
    "print(\"DONE val_0\")\n",
    "for path in class1_val:\n",
    "    img = cv2.imread(path)\n",
    "    img = cv2.resize(img, (224,224))\n",
    "    y_true.append(1)\n",
    "    y_preds.append(model(tf.expand_dims(cv2.cvtColor(img, cv2.COLOR_BGR2RGB),0))[0]._numpy().tolist())\n",
    "print(\"DONE val_1\")\n",
    "\n",
    "pd.DataFrame({\n",
    "    'FileName': class0_val + class1_val,\n",
    "    'y_true': y_true,\n",
    "    'd': [y[0] for y in y_preds]\n",
    "}).to_csv(\"b_densenet_val.csv\")"
   ]
  },
  {
   "cell_type": "code",
   "execution_count": 16,
   "id": "8f073fbf",
   "metadata": {
    "execution": {
     "iopub.execute_input": "2024-04-16T18:52:51.078590Z",
     "iopub.status.busy": "2024-04-16T18:52:51.078163Z",
     "iopub.status.idle": "2024-04-16T19:23:31.106952Z",
     "shell.execute_reply": "2024-04-16T19:23:31.105825Z"
    },
    "papermill": {
     "duration": 1840.049766,
     "end_time": "2024-04-16T19:23:31.117622",
     "exception": false,
     "start_time": "2024-04-16T18:52:51.067856",
     "status": "completed"
    },
    "tags": []
   },
   "outputs": [
    {
     "name": "stdout",
     "output_type": "stream",
     "text": [
      "DONE test_0\n",
      "DONE test_1\n"
     ]
    }
   ],
   "source": [
    "# test\n",
    "y_true = []\n",
    "y_preds = []\n",
    "\n",
    "for path in class0_test:\n",
    "    img = cv2.imread(path)\n",
    "    img = cv2.resize(img, (224,224))\n",
    "    y_true.append(0)\n",
    "    y_preds.append(model(tf.expand_dims(cv2.cvtColor(img, cv2.COLOR_BGR2RGB),0))[0]._numpy().tolist())\n",
    "print(\"DONE test_0\")\n",
    "for path in class1_test:\n",
    "    img = cv2.imread(path)\n",
    "    img = cv2.resize(img, (224,224))\n",
    "    y_true.append(1)\n",
    "    y_preds.append(model(tf.expand_dims(cv2.cvtColor(img, cv2.COLOR_BGR2RGB),0))[0]._numpy().tolist())\n",
    "print(\"DONE test_1\")\n",
    "\n",
    "pd.DataFrame({\n",
    "    'FileName': class0_test + class1_test,\n",
    "    'y_true': y_true,\n",
    "    'd': [y[0] for y in y_preds]\n",
    "}).to_csv(\"b_densenet_test.csv\")"
   ]
  }
 ],
 "metadata": {
  "kaggle": {
   "accelerator": "none",
   "dataSources": [
    {
     "sourceId": 171929799,
     "sourceType": "kernelVersion"
    },
    {
     "sourceId": 172208247,
     "sourceType": "kernelVersion"
    },
    {
     "sourceId": 172208162,
     "sourceType": "kernelVersion"
    },
    {
     "sourceId": 171933311,
     "sourceType": "kernelVersion"
    },
    {
     "isSourceIdPinned": true,
     "modelInstanceId": 4592,
     "sourceId": 6080,
     "sourceType": "modelInstanceVersion"
    }
   ],
   "dockerImageVersionId": 30684,
   "isGpuEnabled": false,
   "isInternetEnabled": false,
   "language": "python",
   "sourceType": "notebook"
  },
  "kernelspec": {
   "display_name": "Python 3",
   "language": "python",
   "name": "python3"
  },
  "language_info": {
   "codemirror_mode": {
    "name": "ipython",
    "version": 3
   },
   "file_extension": ".py",
   "mimetype": "text/x-python",
   "name": "python",
   "nbconvert_exporter": "python",
   "pygments_lexer": "ipython3",
   "version": "3.10.13"
  },
  "papermill": {
   "default_parameters": {},
   "duration": 21743.047255,
   "end_time": "2024-04-16T19:23:34.199229",
   "environment_variables": {},
   "exception": null,
   "input_path": "__notebook__.ipynb",
   "output_path": "__notebook__.ipynb",
   "parameters": {},
   "start_time": "2024-04-16T13:21:11.151974",
   "version": "2.5.0"
  }
 },
 "nbformat": 4,
 "nbformat_minor": 5
}
